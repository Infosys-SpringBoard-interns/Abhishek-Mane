{
 "cells": [
  {
   "cell_type": "code",
   "execution_count": 75,
   "metadata": {
    "colab": {
     "base_uri": "https://localhost:8080/"
    },
    "id": "odjM1RO8CbdW",
    "outputId": "51860810-65e0-40a9-fce5-59b280497aa5"
   },
   "outputs": [
    {
     "name": "stdout",
     "output_type": "stream",
     "text": [
      "Requirement already satisfied: pytorch-tabnet in /usr/local/lib/python3.10/dist-packages (4.1.0)\n",
      "Requirement already satisfied: scikit-learn in /usr/local/lib/python3.10/dist-packages (1.5.2)\n",
      "Requirement already satisfied: imbalanced-learn in /usr/local/lib/python3.10/dist-packages (0.12.4)\n",
      "Requirement already satisfied: matplotlib in /usr/local/lib/python3.10/dist-packages (3.7.1)\n",
      "Requirement already satisfied: seaborn in /usr/local/lib/python3.10/dist-packages (0.13.2)\n",
      "Requirement already satisfied: xgboost in /usr/local/lib/python3.10/dist-packages (2.1.1)\n",
      "Requirement already satisfied: numpy>=1.17 in /usr/local/lib/python3.10/dist-packages (from pytorch-tabnet) (1.26.4)\n",
      "Requirement already satisfied: scipy>1.4 in /usr/local/lib/python3.10/dist-packages (from pytorch-tabnet) (1.13.1)\n",
      "Requirement already satisfied: torch>=1.3 in /usr/local/lib/python3.10/dist-packages (from pytorch-tabnet) (2.5.0+cu121)\n",
      "Requirement already satisfied: tqdm>=4.36 in /usr/local/lib/python3.10/dist-packages (from pytorch-tabnet) (4.66.5)\n",
      "Requirement already satisfied: joblib>=1.2.0 in /usr/local/lib/python3.10/dist-packages (from scikit-learn) (1.4.2)\n",
      "Requirement already satisfied: threadpoolctl>=3.1.0 in /usr/local/lib/python3.10/dist-packages (from scikit-learn) (3.5.0)\n",
      "Requirement already satisfied: contourpy>=1.0.1 in /usr/local/lib/python3.10/dist-packages (from matplotlib) (1.3.0)\n",
      "Requirement already satisfied: cycler>=0.10 in /usr/local/lib/python3.10/dist-packages (from matplotlib) (0.12.1)\n",
      "Requirement already satisfied: fonttools>=4.22.0 in /usr/local/lib/python3.10/dist-packages (from matplotlib) (4.54.1)\n",
      "Requirement already satisfied: kiwisolver>=1.0.1 in /usr/local/lib/python3.10/dist-packages (from matplotlib) (1.4.7)\n",
      "Requirement already satisfied: packaging>=20.0 in /usr/local/lib/python3.10/dist-packages (from matplotlib) (24.1)\n",
      "Requirement already satisfied: pillow>=6.2.0 in /usr/local/lib/python3.10/dist-packages (from matplotlib) (10.4.0)\n",
      "Requirement already satisfied: pyparsing>=2.3.1 in /usr/local/lib/python3.10/dist-packages (from matplotlib) (3.2.0)\n",
      "Requirement already satisfied: python-dateutil>=2.7 in /usr/local/lib/python3.10/dist-packages (from matplotlib) (2.8.2)\n",
      "Requirement already satisfied: pandas>=1.2 in /usr/local/lib/python3.10/dist-packages (from seaborn) (2.2.2)\n",
      "Requirement already satisfied: nvidia-nccl-cu12 in /usr/local/lib/python3.10/dist-packages (from xgboost) (2.23.4)\n",
      "Requirement already satisfied: pytz>=2020.1 in /usr/local/lib/python3.10/dist-packages (from pandas>=1.2->seaborn) (2024.2)\n",
      "Requirement already satisfied: tzdata>=2022.7 in /usr/local/lib/python3.10/dist-packages (from pandas>=1.2->seaborn) (2024.2)\n",
      "Requirement already satisfied: six>=1.5 in /usr/local/lib/python3.10/dist-packages (from python-dateutil>=2.7->matplotlib) (1.16.0)\n",
      "Requirement already satisfied: filelock in /usr/local/lib/python3.10/dist-packages (from torch>=1.3->pytorch-tabnet) (3.16.1)\n",
      "Requirement already satisfied: typing-extensions>=4.8.0 in /usr/local/lib/python3.10/dist-packages (from torch>=1.3->pytorch-tabnet) (4.12.2)\n",
      "Requirement already satisfied: networkx in /usr/local/lib/python3.10/dist-packages (from torch>=1.3->pytorch-tabnet) (3.4.2)\n",
      "Requirement already satisfied: jinja2 in /usr/local/lib/python3.10/dist-packages (from torch>=1.3->pytorch-tabnet) (3.1.4)\n",
      "Requirement already satisfied: fsspec in /usr/local/lib/python3.10/dist-packages (from torch>=1.3->pytorch-tabnet) (2024.6.1)\n",
      "Requirement already satisfied: sympy==1.13.1 in /usr/local/lib/python3.10/dist-packages (from torch>=1.3->pytorch-tabnet) (1.13.1)\n",
      "Requirement already satisfied: mpmath<1.4,>=1.1.0 in /usr/local/lib/python3.10/dist-packages (from sympy==1.13.1->torch>=1.3->pytorch-tabnet) (1.3.0)\n",
      "Requirement already satisfied: MarkupSafe>=2.0 in /usr/local/lib/python3.10/dist-packages (from jinja2->torch>=1.3->pytorch-tabnet) (3.0.2)\n"
     ]
    }
   ],
   "source": [
    "!pip install pytorch-tabnet scikit-learn imbalanced-learn matplotlib seaborn xgboost"
   ]
  },
  {
   "cell_type": "code",
   "execution_count": 76,
   "metadata": {
    "id": "eI2J8oWRCj5_"
   },
   "outputs": [],
   "source": [
    "import numpy as np\n",
    "import pandas as pd\n",
    "import seaborn as sns\n",
    "import matplotlib.pyplot as plt\n",
    "from sklearn.model_selection import train_test_split\n",
    "from sklearn.preprocessing import LabelEncoder, StandardScaler\n",
    "from sklearn.metrics import accuracy_score, classification_report\n",
    "from sklearn.utils.class_weight import compute_class_weight\n",
    "\n",
    "from sklearn.linear_model import LogisticRegression\n",
    "from sklearn.ensemble import RandomForestClassifier\n",
    "from sklearn.svm import SVC\n",
    "from xgboost import XGBClassifier\n",
    "\n",
    "from pytorch_tabnet.tab_model import TabNetClassifier\n",
    "\n",
    "import warnings\n",
    "warnings.filterwarnings('ignore')"
   ]
  },
  {
   "cell_type": "code",
   "execution_count": 77,
   "metadata": {
    "colab": {
     "base_uri": "https://localhost:8080/",
     "height": 243
    },
    "id": "WiMN8yBwNLgt",
    "outputId": "7f62027c-2b9d-4d0b-9001-72befbc7dd5c"
   },
   "outputs": [
    {
     "data": {
      "application/vnd.google.colaboratory.intrinsic+json": {
       "summary": "{\n  \"name\": \"df\",\n  \"rows\": 50000,\n  \"fields\": [\n    {\n      \"column\": \"Age\",\n      \"properties\": {\n        \"dtype\": \"number\",\n        \"std\": 18,\n        \"min\": 18,\n        \"max\": 80,\n        \"num_unique_values\": 63,\n        \"samples\": [\n          73,\n          18,\n          56\n        ],\n        \"semantic_type\": \"\",\n        \"description\": \"\"\n      }\n    },\n    {\n      \"column\": \"Gender\",\n      \"properties\": {\n        \"dtype\": \"number\",\n        \"std\": 0,\n        \"min\": 0,\n        \"max\": 1,\n        \"num_unique_values\": 2,\n        \"samples\": [\n          1,\n          0\n        ],\n        \"semantic_type\": \"\",\n        \"description\": \"\"\n      }\n    },\n    {\n      \"column\": \"Height_cm\",\n      \"properties\": {\n        \"dtype\": \"number\",\n        \"std\": 10.016535761091927,\n        \"min\": 125.37031472919897,\n        \"max\": 208.29782171340852,\n        \"num_unique_values\": 50000,\n        \"samples\": [\n          171.95813427366127,\n          169.0577024368296\n        ],\n        \"semantic_type\": \"\",\n        \"description\": \"\"\n      }\n    },\n    {\n      \"column\": \"Weight_kg\",\n      \"properties\": {\n        \"dtype\": \"number\",\n        \"std\": 15.003174832804186,\n        \"min\": 15.010016264579228,\n        \"max\": 138.03038849649,\n        \"num_unique_values\": 50000,\n        \"samples\": [\n          62.166696971554686,\n          70.77593761425825\n        ],\n        \"semantic_type\": \"\",\n        \"description\": \"\"\n      }\n    },\n    {\n      \"column\": \"BMI\",\n      \"properties\": {\n        \"dtype\": \"number\",\n        \"std\": 6.132110420194827,\n        \"min\": 4.580646300400106,\n        \"max\": 56.83583071526518,\n        \"num_unique_values\": 50000,\n        \"samples\": [\n          21.02385459784578,\n          24.76370983390113\n        ],\n        \"semantic_type\": \"\",\n        \"description\": \"\"\n      }\n    },\n    {\n      \"column\": \"Physical_Activity_Level\",\n      \"properties\": {\n        \"dtype\": \"number\",\n        \"std\": 1,\n        \"min\": 1,\n        \"max\": 4,\n        \"num_unique_values\": 4,\n        \"samples\": [\n          2,\n          3\n        ],\n        \"semantic_type\": \"\",\n        \"description\": \"\"\n      }\n    },\n    {\n      \"column\": \"Diet_Type\",\n      \"properties\": {\n        \"dtype\": \"number\",\n        \"std\": 0,\n        \"min\": 0,\n        \"max\": 2,\n        \"num_unique_values\": 3,\n        \"samples\": [\n          1,\n          0\n        ],\n        \"semantic_type\": \"\",\n        \"description\": \"\"\n      }\n    },\n    {\n      \"column\": \"Smoking_Habits\",\n      \"properties\": {\n        \"dtype\": \"number\",\n        \"std\": 0,\n        \"min\": 0,\n        \"max\": 2,\n        \"num_unique_values\": 3,\n        \"samples\": [\n          2,\n          0\n        ],\n        \"semantic_type\": \"\",\n        \"description\": \"\"\n      }\n    },\n    {\n      \"column\": \"Alcohol_Consumption\",\n      \"properties\": {\n        \"dtype\": \"number\",\n        \"std\": 0,\n        \"min\": 0,\n        \"max\": 2,\n        \"num_unique_values\": 3,\n        \"samples\": [\n          0,\n          1\n        ],\n        \"semantic_type\": \"\",\n        \"description\": \"\"\n      }\n    },\n    {\n      \"column\": \"Family_History_Obesity\",\n      \"properties\": {\n        \"dtype\": \"number\",\n        \"std\": 0,\n        \"min\": 0,\n        \"max\": 1,\n        \"num_unique_values\": 2,\n        \"samples\": [\n          0,\n          1\n        ],\n        \"semantic_type\": \"\",\n        \"description\": \"\"\n      }\n    },\n    {\n      \"column\": \"Blood_Pressure\",\n      \"properties\": {\n        \"dtype\": \"category\",\n        \"num_unique_values\": 4,\n        \"samples\": [\n          \"Elevated\",\n          \"Hypertension Stage 1\"\n        ],\n        \"semantic_type\": \"\",\n        \"description\": \"\"\n      }\n    },\n    {\n      \"column\": \"Cholesterol_Levels\",\n      \"properties\": {\n        \"dtype\": \"number\",\n        \"std\": 0,\n        \"min\": 1,\n        \"max\": 3,\n        \"num_unique_values\": 3,\n        \"samples\": [\n          2,\n          1\n        ],\n        \"semantic_type\": \"\",\n        \"description\": \"\"\n      }\n    },\n    {\n      \"column\": \"Education_Level\",\n      \"properties\": {\n        \"dtype\": \"number\",\n        \"std\": 1,\n        \"min\": 1,\n        \"max\": 5,\n        \"num_unique_values\": 5,\n        \"samples\": [\n          2,\n          4\n        ],\n        \"semantic_type\": \"\",\n        \"description\": \"\"\n      }\n    },\n    {\n      \"column\": \"Income_Level\",\n      \"properties\": {\n        \"dtype\": \"number\",\n        \"std\": 0,\n        \"min\": 1,\n        \"max\": 3,\n        \"num_unique_values\": 3,\n        \"samples\": [\n          3,\n          1\n        ],\n        \"semantic_type\": \"\",\n        \"description\": \"\"\n      }\n    },\n    {\n      \"column\": \"Geographical_Region\",\n      \"properties\": {\n        \"dtype\": \"number\",\n        \"std\": 0,\n        \"min\": 1,\n        \"max\": 3,\n        \"num_unique_values\": 3,\n        \"samples\": [\n          2,\n          3\n        ],\n        \"semantic_type\": \"\",\n        \"description\": \"\"\n      }\n    },\n    {\n      \"column\": \"Obesity_Status\",\n      \"properties\": {\n        \"dtype\": \"category\",\n        \"num_unique_values\": 4,\n        \"samples\": [\n          \"Obese\",\n          \"Underweight\"\n        ],\n        \"semantic_type\": \"\",\n        \"description\": \"\"\n      }\n    }\n  ]\n}",
       "type": "dataframe",
       "variable_name": "df"
      },
      "text/html": [
       "\n",
       "  <div id=\"df-60743b24-40a6-4db0-b939-ff2a4de078cc\" class=\"colab-df-container\">\n",
       "    <div>\n",
       "<style scoped>\n",
       "    .dataframe tbody tr th:only-of-type {\n",
       "        vertical-align: middle;\n",
       "    }\n",
       "\n",
       "    .dataframe tbody tr th {\n",
       "        vertical-align: top;\n",
       "    }\n",
       "\n",
       "    .dataframe thead th {\n",
       "        text-align: right;\n",
       "    }\n",
       "</style>\n",
       "<table border=\"1\" class=\"dataframe\">\n",
       "  <thead>\n",
       "    <tr style=\"text-align: right;\">\n",
       "      <th></th>\n",
       "      <th>Age</th>\n",
       "      <th>Gender</th>\n",
       "      <th>Height_cm</th>\n",
       "      <th>Weight_kg</th>\n",
       "      <th>BMI</th>\n",
       "      <th>Physical_Activity_Level</th>\n",
       "      <th>Diet_Type</th>\n",
       "      <th>Smoking_Habits</th>\n",
       "      <th>Alcohol_Consumption</th>\n",
       "      <th>Family_History_Obesity</th>\n",
       "      <th>Blood_Pressure</th>\n",
       "      <th>Cholesterol_Levels</th>\n",
       "      <th>Education_Level</th>\n",
       "      <th>Income_Level</th>\n",
       "      <th>Geographical_Region</th>\n",
       "      <th>Obesity_Status</th>\n",
       "    </tr>\n",
       "  </thead>\n",
       "  <tbody>\n",
       "    <tr>\n",
       "      <th>0</th>\n",
       "      <td>56</td>\n",
       "      <td>0</td>\n",
       "      <td>172.005936</td>\n",
       "      <td>68.686179</td>\n",
       "      <td>23.215738</td>\n",
       "      <td>4</td>\n",
       "      <td>1</td>\n",
       "      <td>2</td>\n",
       "      <td>0</td>\n",
       "      <td>1</td>\n",
       "      <td>Hypertension Stage 2</td>\n",
       "      <td>2</td>\n",
       "      <td>1</td>\n",
       "      <td>3</td>\n",
       "      <td>2</td>\n",
       "      <td>Normal weight</td>\n",
       "    </tr>\n",
       "    <tr>\n",
       "      <th>1</th>\n",
       "      <td>69</td>\n",
       "      <td>1</td>\n",
       "      <td>161.678497</td>\n",
       "      <td>79.937723</td>\n",
       "      <td>30.580688</td>\n",
       "      <td>2</td>\n",
       "      <td>0</td>\n",
       "      <td>0</td>\n",
       "      <td>0</td>\n",
       "      <td>0</td>\n",
       "      <td>Elevated</td>\n",
       "      <td>1</td>\n",
       "      <td>2</td>\n",
       "      <td>1</td>\n",
       "      <td>3</td>\n",
       "      <td>Obese</td>\n",
       "    </tr>\n",
       "    <tr>\n",
       "      <th>2</th>\n",
       "      <td>46</td>\n",
       "      <td>1</td>\n",
       "      <td>172.078597</td>\n",
       "      <td>99.707918</td>\n",
       "      <td>33.672545</td>\n",
       "      <td>4</td>\n",
       "      <td>1</td>\n",
       "      <td>1</td>\n",
       "      <td>1</td>\n",
       "      <td>0</td>\n",
       "      <td>Normal</td>\n",
       "      <td>3</td>\n",
       "      <td>2</td>\n",
       "      <td>3</td>\n",
       "      <td>2</td>\n",
       "      <td>Obese</td>\n",
       "    </tr>\n",
       "    <tr>\n",
       "      <th>3</th>\n",
       "      <td>32</td>\n",
       "      <td>1</td>\n",
       "      <td>176.845709</td>\n",
       "      <td>76.314302</td>\n",
       "      <td>24.401520</td>\n",
       "      <td>1</td>\n",
       "      <td>2</td>\n",
       "      <td>0</td>\n",
       "      <td>1</td>\n",
       "      <td>0</td>\n",
       "      <td>Normal</td>\n",
       "      <td>3</td>\n",
       "      <td>1</td>\n",
       "      <td>2</td>\n",
       "      <td>1</td>\n",
       "      <td>Normal weight</td>\n",
       "    </tr>\n",
       "    <tr>\n",
       "      <th>4</th>\n",
       "      <td>60</td>\n",
       "      <td>1</td>\n",
       "      <td>170.875161</td>\n",
       "      <td>84.397860</td>\n",
       "      <td>28.905039</td>\n",
       "      <td>2</td>\n",
       "      <td>1</td>\n",
       "      <td>0</td>\n",
       "      <td>2</td>\n",
       "      <td>1</td>\n",
       "      <td>Elevated</td>\n",
       "      <td>2</td>\n",
       "      <td>3</td>\n",
       "      <td>3</td>\n",
       "      <td>2</td>\n",
       "      <td>Overweight</td>\n",
       "    </tr>\n",
       "  </tbody>\n",
       "</table>\n",
       "</div>\n",
       "    <div class=\"colab-df-buttons\">\n",
       "\n",
       "  <div class=\"colab-df-container\">\n",
       "    <button class=\"colab-df-convert\" onclick=\"convertToInteractive('df-60743b24-40a6-4db0-b939-ff2a4de078cc')\"\n",
       "            title=\"Convert this dataframe to an interactive table.\"\n",
       "            style=\"display:none;\">\n",
       "\n",
       "  <svg xmlns=\"http://www.w3.org/2000/svg\" height=\"24px\" viewBox=\"0 -960 960 960\">\n",
       "    <path d=\"M120-120v-720h720v720H120Zm60-500h600v-160H180v160Zm220 220h160v-160H400v160Zm0 220h160v-160H400v160ZM180-400h160v-160H180v160Zm440 0h160v-160H620v160ZM180-180h160v-160H180v160Zm440 0h160v-160H620v160Z\"/>\n",
       "  </svg>\n",
       "    </button>\n",
       "\n",
       "  <style>\n",
       "    .colab-df-container {\n",
       "      display:flex;\n",
       "      gap: 12px;\n",
       "    }\n",
       "\n",
       "    .colab-df-convert {\n",
       "      background-color: #E8F0FE;\n",
       "      border: none;\n",
       "      border-radius: 50%;\n",
       "      cursor: pointer;\n",
       "      display: none;\n",
       "      fill: #1967D2;\n",
       "      height: 32px;\n",
       "      padding: 0 0 0 0;\n",
       "      width: 32px;\n",
       "    }\n",
       "\n",
       "    .colab-df-convert:hover {\n",
       "      background-color: #E2EBFA;\n",
       "      box-shadow: 0px 1px 2px rgba(60, 64, 67, 0.3), 0px 1px 3px 1px rgba(60, 64, 67, 0.15);\n",
       "      fill: #174EA6;\n",
       "    }\n",
       "\n",
       "    .colab-df-buttons div {\n",
       "      margin-bottom: 4px;\n",
       "    }\n",
       "\n",
       "    [theme=dark] .colab-df-convert {\n",
       "      background-color: #3B4455;\n",
       "      fill: #D2E3FC;\n",
       "    }\n",
       "\n",
       "    [theme=dark] .colab-df-convert:hover {\n",
       "      background-color: #434B5C;\n",
       "      box-shadow: 0px 1px 3px 1px rgba(0, 0, 0, 0.15);\n",
       "      filter: drop-shadow(0px 1px 2px rgba(0, 0, 0, 0.3));\n",
       "      fill: #FFFFFF;\n",
       "    }\n",
       "  </style>\n",
       "\n",
       "    <script>\n",
       "      const buttonEl =\n",
       "        document.querySelector('#df-60743b24-40a6-4db0-b939-ff2a4de078cc button.colab-df-convert');\n",
       "      buttonEl.style.display =\n",
       "        google.colab.kernel.accessAllowed ? 'block' : 'none';\n",
       "\n",
       "      async function convertToInteractive(key) {\n",
       "        const element = document.querySelector('#df-60743b24-40a6-4db0-b939-ff2a4de078cc');\n",
       "        const dataTable =\n",
       "          await google.colab.kernel.invokeFunction('convertToInteractive',\n",
       "                                                    [key], {});\n",
       "        if (!dataTable) return;\n",
       "\n",
       "        const docLinkHtml = 'Like what you see? Visit the ' +\n",
       "          '<a target=\"_blank\" href=https://colab.research.google.com/notebooks/data_table.ipynb>data table notebook</a>'\n",
       "          + ' to learn more about interactive tables.';\n",
       "        element.innerHTML = '';\n",
       "        dataTable['output_type'] = 'display_data';\n",
       "        await google.colab.output.renderOutput(dataTable, element);\n",
       "        const docLink = document.createElement('div');\n",
       "        docLink.innerHTML = docLinkHtml;\n",
       "        element.appendChild(docLink);\n",
       "      }\n",
       "    </script>\n",
       "  </div>\n",
       "\n",
       "\n",
       "<div id=\"df-dc17f917-e1fb-4ebf-97ee-edc41e765e75\">\n",
       "  <button class=\"colab-df-quickchart\" onclick=\"quickchart('df-dc17f917-e1fb-4ebf-97ee-edc41e765e75')\"\n",
       "            title=\"Suggest charts\"\n",
       "            style=\"display:none;\">\n",
       "\n",
       "<svg xmlns=\"http://www.w3.org/2000/svg\" height=\"24px\"viewBox=\"0 0 24 24\"\n",
       "     width=\"24px\">\n",
       "    <g>\n",
       "        <path d=\"M19 3H5c-1.1 0-2 .9-2 2v14c0 1.1.9 2 2 2h14c1.1 0 2-.9 2-2V5c0-1.1-.9-2-2-2zM9 17H7v-7h2v7zm4 0h-2V7h2v10zm4 0h-2v-4h2v4z\"/>\n",
       "    </g>\n",
       "</svg>\n",
       "  </button>\n",
       "\n",
       "<style>\n",
       "  .colab-df-quickchart {\n",
       "      --bg-color: #E8F0FE;\n",
       "      --fill-color: #1967D2;\n",
       "      --hover-bg-color: #E2EBFA;\n",
       "      --hover-fill-color: #174EA6;\n",
       "      --disabled-fill-color: #AAA;\n",
       "      --disabled-bg-color: #DDD;\n",
       "  }\n",
       "\n",
       "  [theme=dark] .colab-df-quickchart {\n",
       "      --bg-color: #3B4455;\n",
       "      --fill-color: #D2E3FC;\n",
       "      --hover-bg-color: #434B5C;\n",
       "      --hover-fill-color: #FFFFFF;\n",
       "      --disabled-bg-color: #3B4455;\n",
       "      --disabled-fill-color: #666;\n",
       "  }\n",
       "\n",
       "  .colab-df-quickchart {\n",
       "    background-color: var(--bg-color);\n",
       "    border: none;\n",
       "    border-radius: 50%;\n",
       "    cursor: pointer;\n",
       "    display: none;\n",
       "    fill: var(--fill-color);\n",
       "    height: 32px;\n",
       "    padding: 0;\n",
       "    width: 32px;\n",
       "  }\n",
       "\n",
       "  .colab-df-quickchart:hover {\n",
       "    background-color: var(--hover-bg-color);\n",
       "    box-shadow: 0 1px 2px rgba(60, 64, 67, 0.3), 0 1px 3px 1px rgba(60, 64, 67, 0.15);\n",
       "    fill: var(--button-hover-fill-color);\n",
       "  }\n",
       "\n",
       "  .colab-df-quickchart-complete:disabled,\n",
       "  .colab-df-quickchart-complete:disabled:hover {\n",
       "    background-color: var(--disabled-bg-color);\n",
       "    fill: var(--disabled-fill-color);\n",
       "    box-shadow: none;\n",
       "  }\n",
       "\n",
       "  .colab-df-spinner {\n",
       "    border: 2px solid var(--fill-color);\n",
       "    border-color: transparent;\n",
       "    border-bottom-color: var(--fill-color);\n",
       "    animation:\n",
       "      spin 1s steps(1) infinite;\n",
       "  }\n",
       "\n",
       "  @keyframes spin {\n",
       "    0% {\n",
       "      border-color: transparent;\n",
       "      border-bottom-color: var(--fill-color);\n",
       "      border-left-color: var(--fill-color);\n",
       "    }\n",
       "    20% {\n",
       "      border-color: transparent;\n",
       "      border-left-color: var(--fill-color);\n",
       "      border-top-color: var(--fill-color);\n",
       "    }\n",
       "    30% {\n",
       "      border-color: transparent;\n",
       "      border-left-color: var(--fill-color);\n",
       "      border-top-color: var(--fill-color);\n",
       "      border-right-color: var(--fill-color);\n",
       "    }\n",
       "    40% {\n",
       "      border-color: transparent;\n",
       "      border-right-color: var(--fill-color);\n",
       "      border-top-color: var(--fill-color);\n",
       "    }\n",
       "    60% {\n",
       "      border-color: transparent;\n",
       "      border-right-color: var(--fill-color);\n",
       "    }\n",
       "    80% {\n",
       "      border-color: transparent;\n",
       "      border-right-color: var(--fill-color);\n",
       "      border-bottom-color: var(--fill-color);\n",
       "    }\n",
       "    90% {\n",
       "      border-color: transparent;\n",
       "      border-bottom-color: var(--fill-color);\n",
       "    }\n",
       "  }\n",
       "</style>\n",
       "\n",
       "  <script>\n",
       "    async function quickchart(key) {\n",
       "      const quickchartButtonEl =\n",
       "        document.querySelector('#' + key + ' button');\n",
       "      quickchartButtonEl.disabled = true;  // To prevent multiple clicks.\n",
       "      quickchartButtonEl.classList.add('colab-df-spinner');\n",
       "      try {\n",
       "        const charts = await google.colab.kernel.invokeFunction(\n",
       "            'suggestCharts', [key], {});\n",
       "      } catch (error) {\n",
       "        console.error('Error during call to suggestCharts:', error);\n",
       "      }\n",
       "      quickchartButtonEl.classList.remove('colab-df-spinner');\n",
       "      quickchartButtonEl.classList.add('colab-df-quickchart-complete');\n",
       "    }\n",
       "    (() => {\n",
       "      let quickchartButtonEl =\n",
       "        document.querySelector('#df-dc17f917-e1fb-4ebf-97ee-edc41e765e75 button');\n",
       "      quickchartButtonEl.style.display =\n",
       "        google.colab.kernel.accessAllowed ? 'block' : 'none';\n",
       "    })();\n",
       "  </script>\n",
       "</div>\n",
       "\n",
       "    </div>\n",
       "  </div>\n"
      ],
      "text/plain": [
       "   Age  Gender   Height_cm  Weight_kg        BMI  Physical_Activity_Level  \\\n",
       "0   56       0  172.005936  68.686179  23.215738                        4   \n",
       "1   69       1  161.678497  79.937723  30.580688                        2   \n",
       "2   46       1  172.078597  99.707918  33.672545                        4   \n",
       "3   32       1  176.845709  76.314302  24.401520                        1   \n",
       "4   60       1  170.875161  84.397860  28.905039                        2   \n",
       "\n",
       "   Diet_Type  Smoking_Habits  Alcohol_Consumption  Family_History_Obesity  \\\n",
       "0          1               2                    0                       1   \n",
       "1          0               0                    0                       0   \n",
       "2          1               1                    1                       0   \n",
       "3          2               0                    1                       0   \n",
       "4          1               0                    2                       1   \n",
       "\n",
       "         Blood_Pressure  Cholesterol_Levels  Education_Level  Income_Level  \\\n",
       "0  Hypertension Stage 2                   2                1             3   \n",
       "1              Elevated                   1                2             1   \n",
       "2                Normal                   3                2             3   \n",
       "3                Normal                   3                1             2   \n",
       "4              Elevated                   2                3             3   \n",
       "\n",
       "   Geographical_Region Obesity_Status  \n",
       "0                    2  Normal weight  \n",
       "1                    3          Obese  \n",
       "2                    2          Obese  \n",
       "3                    1  Normal weight  \n",
       "4                    2     Overweight  "
      ]
     },
     "execution_count": 77,
     "metadata": {},
     "output_type": "execute_result"
    }
   ],
   "source": [
    "df = pd.read_csv('obesity_data_with_status_50000.csv')\n",
    "df.head()"
   ]
  },
  {
   "cell_type": "code",
   "execution_count": 78,
   "metadata": {
    "colab": {
     "base_uri": "https://localhost:8080/"
    },
    "id": "eJuHJfaZNN-S",
    "outputId": "45a90678-6b70-4f2d-e02b-e843ccde3ba6"
   },
   "outputs": [
    {
     "data": {
      "text/plain": [
       "(50000, 16)"
      ]
     },
     "execution_count": 78,
     "metadata": {},
     "output_type": "execute_result"
    }
   ],
   "source": [
    "df.shape"
   ]
  },
  {
   "cell_type": "code",
   "execution_count": 79,
   "metadata": {
    "id": "q_4V9l1uCkVc"
   },
   "outputs": [],
   "source": [
    "label_encoder = LabelEncoder()\n",
    "df['Obesity_Status'] = label_encoder.fit_transform(df['Obesity_Status'])\n",
    "df['Blood_Pressure'] = label_encoder.fit_transform(df['Blood_Pressure'])"
   ]
  },
  {
   "cell_type": "code",
   "execution_count": 80,
   "metadata": {
    "colab": {
     "base_uri": "https://localhost:8080/"
    },
    "id": "_rSCSNIfNZir",
    "outputId": "63126572-74de-4966-e681-8e301e004896"
   },
   "outputs": [
    {
     "name": "stdout",
     "output_type": "stream",
     "text": [
      "Data shape after outlier removal: (49744, 16)\n"
     ]
    }
   ],
   "source": [
    "def remove_outliers_zscore(df, column_names, threshold=3):\n",
    "    z_scores = np.abs((df[column_names] - df[column_names].mean()) / df[column_names].std())\n",
    "    filtered_df = df[(z_scores < threshold).all(axis=1)]\n",
    "    return filtered_df\n",
    "\n",
    "continuous_columns = ['Height_cm', 'Weight_kg']\n",
    "df_cleaned = remove_outliers_zscore(df, continuous_columns)\n",
    "\n",
    "print(f\"Data shape after outlier removal: {df_cleaned.shape}\")"
   ]
  },
  {
   "cell_type": "code",
   "execution_count": 81,
   "metadata": {
    "id": "lDeEeZxJNcby"
   },
   "outputs": [],
   "source": [
    "scaler = StandardScaler()\n",
    "df_cleaned[['Height_cm', 'Weight_kg']] = scaler.fit_transform(df_cleaned[['Height_cm', 'Weight_kg']])"
   ]
  },
  {
   "cell_type": "code",
   "execution_count": null,
   "metadata": {},
   "outputs": [],
   "source": []
  },
  {
   "cell_type": "markdown",
   "metadata": {},
   "source": [
    "#### obesity_labels\n",
    "+     0: 'Underweight',\n",
    "+     1: 'Normal Weight',\n",
    "+     2: 'Overweight',\n",
    "+     3: 'Obese'"
   ]
  },
  {
   "cell_type": "markdown",
   "metadata": {},
   "source": [
    "+ calculated the class distribution of the target variable\n",
    "+ applied scaling inversely proportional to class frequencies\n",
    "+ meaning minority classes get higherweight\n",
    "+ Classes with fewer instances are given a higher scaling factor, model to treat each class more equally during training"
   ]
  },
  {
   "cell_type": "code",
   "execution_count": 82,
   "metadata": {
    "colab": {
     "base_uri": "https://localhost:8080/"
    },
    "id": "eZ77oyAHCkX6",
    "outputId": "d4133f21-bf47-4028-e245-514f8e5cff06"
   },
   "outputs": [
    {
     "name": "stdout",
     "output_type": "stream",
     "text": [
      "New class distribution after augmentation:\n",
      "Obesity_Status\n",
      "3    18308\n",
      "0    17442\n",
      "2    15094\n",
      "1    12631\n",
      "Name: count, dtype: int64\n"
     ]
    }
   ],
   "source": [
    "class_counts = df_cleaned['Obesity_Status'].value_counts()\n",
    "\n",
    "scale_factor = class_counts.max() / class_counts\n",
    "\n",
    "def augment_data(df, target_col, scale_factor):\n",
    "    frames = []\n",
    "    for label, factor in scale_factor.items():\n",
    "        df_class = df[df[target_col] == label]\n",
    "        df_class_replicated = pd.concat([df_class] * int(np.round(factor)), ignore_index=True)\n",
    "        frames.append(df_class_replicated)\n",
    "\n",
    "    df_augmented = pd.concat(frames).sample(frac=1).reset_index(drop=True)  # Shuffle the data\n",
    "    return df_augmented\n",
    "\n",
    "df_augmented = augment_data(df_cleaned, 'Obesity_Status', scale_factor)\n",
    "print(f\"New class distribution after augmentation:\\n{df_augmented['Obesity_Status'].value_counts()}\")"
   ]
  },
  {
   "cell_type": "code",
   "execution_count": null,
   "metadata": {},
   "outputs": [],
   "source": []
  },
  {
   "cell_type": "markdown",
   "metadata": {},
   "source": [
    "+ We computed class weights to ensure that the model doesn't favor majority classes\n",
    "+ They modify the loss function so that errors on minority classes (e.g., underweight, obese) are penalized more heavily."
   ]
  },
  {
   "cell_type": "code",
   "execution_count": 83,
   "metadata": {
    "colab": {
     "base_uri": "https://localhost:8080/"
    },
    "id": "PHCGOPHzCkaY",
    "outputId": "599e7fcf-bed6-44e2-d709-9ef07f066c11"
   },
   "outputs": [
    {
     "name": "stdout",
     "output_type": "stream",
     "text": [
      "Class Weights: {0: 0.9019894437677629, 1: 1.2594104308390022, 2: 1.0528909952606635, 3: 0.8714207264454381}\n"
     ]
    }
   ],
   "source": [
    "class_weights = compute_class_weight('balanced', classes=np.unique(y_train), y=y_train)\n",
    "class_weights_dict = dict(enumerate(class_weights))\n",
    "print(f\"Class Weights: {class_weights_dict}\")"
   ]
  },
  {
   "cell_type": "code",
   "execution_count": 84,
   "metadata": {
    "colab": {
     "base_uri": "https://localhost:8080/"
    },
    "id": "rpRvtMwjKvk0",
    "outputId": "5a0c88fa-fd82-4849-f948-c46c67591bfa"
   },
   "outputs": [
    {
     "name": "stdout",
     "output_type": "stream",
     "text": [
      "Outliers in Obesity_Status column: 0\n"
     ]
    }
   ],
   "source": [
    "Q1 = df_augmented['Obesity_Status'].quantile(0.25)\n",
    "Q3 = df_augmented['Obesity_Status'].quantile(0.75)\n",
    "IQR = Q3 - Q1\n",
    "\n",
    "\n",
    "lower_bound = Q1 - 1.5 * IQR\n",
    "upper_bound = Q3 + 1.5 * IQR\n",
    "\n",
    "outliers = df_augmented[(df_augmented['Obesity_Status'] < lower_bound) | (df_augmented['Obesity_Status'] > upper_bound)]\n",
    "\n",
    "print(\"Outliers in Obesity_Status column:\", len(outliers))"
   ]
  },
  {
   "cell_type": "code",
   "execution_count": 85,
   "metadata": {
    "colab": {
     "base_uri": "https://localhost:8080/"
    },
    "id": "_t8ThJIXCkc3",
    "outputId": "fb2d04c5-ba93-4b8b-aaa4-338bb405fb48"
   },
   "outputs": [
    {
     "name": "stdout",
     "output_type": "stream",
     "text": [
      "Training set shape: (44432, 15)\n",
      "Validation set shape: (9521, 15)\n",
      "Test set shape: (9522, 15)\n"
     ]
    }
   ],
   "source": [
    "X = df_augmented.drop('Obesity_Status', axis=1)\n",
    "y = df_augmented['Obesity_Status']\n",
    "\n",
    "X_train, X_temp, y_train, y_temp = train_test_split(X, y, test_size=0.3, random_state=42)  # 70% train\n",
    "X_val, X_test, y_val, y_test = train_test_split(X_temp, y_temp, test_size=0.5, random_state=42)  # 15% validation, 15% test\n",
    "\n",
    "print(f\"Training set shape: {X_train.shape}\")\n",
    "print(f\"Validation set shape: {X_val.shape}\")\n",
    "print(f\"Test set shape: {X_test.shape}\")"
   ]
  },
  {
   "cell_type": "code",
   "execution_count": 86,
   "metadata": {
    "colab": {
     "base_uri": "https://localhost:8080/"
    },
    "id": "t0UwaijFCkf1",
    "outputId": "2164411e-9d10-4402-fa9b-173c0a98daed"
   },
   "outputs": [
    {
     "name": "stdout",
     "output_type": "stream",
     "text": [
      "Logistic Regression Accuracy: 0.9160802436718832\n"
     ]
    }
   ],
   "source": [
    "# Logistic Regression\n",
    "log_reg = LogisticRegression()\n",
    "log_reg.fit(X_train, y_train)\n",
    "y_pred_log_reg = log_reg.predict(X_val)\n",
    "print(f\"Logistic Regression Accuracy: {accuracy_score(y_val, y_pred_log_reg)}\")"
   ]
  },
  {
   "cell_type": "code",
   "execution_count": 87,
   "metadata": {
    "colab": {
     "base_uri": "https://localhost:8080/"
    },
    "id": "MSpnplvDN-mS",
    "outputId": "e9b40460-e89c-4cbe-dd37-90b06f2237a7"
   },
   "outputs": [
    {
     "name": "stdout",
     "output_type": "stream",
     "text": [
      "Random Forest Accuracy: 1.0\n"
     ]
    }
   ],
   "source": [
    "# Random Forest\n",
    "rf_model = RandomForestClassifier()\n",
    "rf_model.fit(X_train, y_train)\n",
    "y_pred_rf = rf_model.predict(X_val)\n",
    "print(f\"Random Forest Accuracy: {accuracy_score(y_val, y_pred_rf)}\")"
   ]
  },
  {
   "cell_type": "code",
   "execution_count": 88,
   "metadata": {
    "colab": {
     "base_uri": "https://localhost:8080/"
    },
    "id": "mReBArjZOCph",
    "outputId": "85b18503-f043-41b5-e24f-470372cb936f"
   },
   "outputs": [
    {
     "name": "stdout",
     "output_type": "stream",
     "text": [
      "SVM Accuracy: 0.997374225396492\n"
     ]
    }
   ],
   "source": [
    "# SVM\n",
    "svm_model = SVC(kernel='linear')\n",
    "svm_model.fit(X_train, y_train)\n",
    "y_pred_svm = svm_model.predict(X_val)\n",
    "print(f\"SVM Accuracy: {accuracy_score(y_val, y_pred_svm)}\")"
   ]
  },
  {
   "cell_type": "code",
   "execution_count": 89,
   "metadata": {
    "colab": {
     "base_uri": "https://localhost:8080/"
    },
    "id": "ajB4Vz-xOGy3",
    "outputId": "da3f56cc-0a9c-4edf-9f3d-b5e59dea5348"
   },
   "outputs": [
    {
     "name": "stdout",
     "output_type": "stream",
     "text": [
      "XGBoost Accuracy: 0.9982144732696145\n"
     ]
    }
   ],
   "source": [
    "# XGBoost\n",
    "xgb_model = XGBClassifier()\n",
    "xgb_model.fit(X_train, y_train)\n",
    "y_pred_xgb = xgb_model.predict(X_val)\n",
    "print(f\"XGBoost Accuracy: {accuracy_score(y_val, y_pred_xgb)}\")"
   ]
  },
  {
   "cell_type": "code",
   "execution_count": null,
   "metadata": {},
   "outputs": [],
   "source": []
  },
  {
   "cell_type": "markdown",
   "metadata": {},
   "source": [
    "+ Initialized the TabNet Model\n",
    "+ `patience=10`early stopping based on validation accuracy.\n",
    "+  If the validation accuracy doesn't improve for 10 consecutive epochs,\n",
    "+  training will stop This will helps to prevent overfitting."
   ]
  },
  {
   "cell_type": "code",
   "execution_count": 90,
   "metadata": {
    "colab": {
     "base_uri": "https://localhost:8080/"
    },
    "id": "BChpaKqBCkia",
    "outputId": "262b4668-035f-4aeb-ed56-d713aef6d279"
   },
   "outputs": [
    {
     "name": "stdout",
     "output_type": "stream",
     "text": [
      "epoch 0  | loss: 0.80517 | train_accuracy: 0.38434 | valid_accuracy: 0.37318 |  0:00:05s\n",
      "epoch 1  | loss: 0.22307 | train_accuracy: 0.24716 | valid_accuracy: 0.23369 |  0:00:08s\n",
      "epoch 2  | loss: 0.17483 | train_accuracy: 0.23157 | valid_accuracy: 0.22382 |  0:00:11s\n",
      "epoch 3  | loss: 0.14694 | train_accuracy: 0.34432 | valid_accuracy: 0.33715 |  0:00:14s\n",
      "epoch 4  | loss: 0.14518 | train_accuracy: 0.54659 | valid_accuracy: 0.54038 |  0:00:17s\n",
      "epoch 5  | loss: 0.12606 | train_accuracy: 0.70067 | valid_accuracy: 0.70035 |  0:00:20s\n",
      "epoch 6  | loss: 0.1425  | train_accuracy: 0.80404 | valid_accuracy: 0.80853 |  0:00:23s\n",
      "epoch 7  | loss: 0.11545 | train_accuracy: 0.86811 | valid_accuracy: 0.8769  |  0:00:26s\n",
      "epoch 8  | loss: 0.11963 | train_accuracy: 0.93394 | valid_accuracy: 0.93394 |  0:00:30s\n",
      "epoch 9  | loss: 0.11843 | train_accuracy: 0.96761 | valid_accuracy: 0.96986 |  0:00:33s\n",
      "epoch 10 | loss: 0.11677 | train_accuracy: 0.97502 | valid_accuracy: 0.97479 |  0:00:36s\n",
      "epoch 11 | loss: 0.10688 | train_accuracy: 0.97509 | valid_accuracy: 0.97574 |  0:00:38s\n",
      "epoch 12 | loss: 0.12558 | train_accuracy: 0.96908 | valid_accuracy: 0.97164 |  0:00:42s\n",
      "epoch 13 | loss: 0.10818 | train_accuracy: 0.96757 | valid_accuracy: 0.96996 |  0:00:45s\n",
      "epoch 14 | loss: 0.10497 | train_accuracy: 0.99293 | valid_accuracy: 0.9938  |  0:00:48s\n",
      "epoch 15 | loss: 0.09638 | train_accuracy: 0.98427 | valid_accuracy: 0.98635 |  0:00:51s\n",
      "epoch 16 | loss: 0.09357 | train_accuracy: 0.97229 | valid_accuracy: 0.97364 |  0:00:54s\n",
      "epoch 17 | loss: 0.1015  | train_accuracy: 0.97434 | valid_accuracy: 0.97553 |  0:00:58s\n",
      "epoch 18 | loss: 0.09321 | train_accuracy: 0.98935 | valid_accuracy: 0.98918 |  0:01:00s\n",
      "epoch 19 | loss: 0.09374 | train_accuracy: 0.97738 | valid_accuracy: 0.97868 |  0:01:03s\n",
      "epoch 20 | loss: 0.11699 | train_accuracy: 0.98186 | valid_accuracy: 0.9832  |  0:01:06s\n",
      "epoch 21 | loss: 0.10398 | train_accuracy: 0.96746 | valid_accuracy: 0.96902 |  0:01:10s\n",
      "epoch 22 | loss: 0.09413 | train_accuracy: 0.97693 | valid_accuracy: 0.97511 |  0:01:12s\n",
      "epoch 23 | loss: 0.10981 | train_accuracy: 0.97124 | valid_accuracy: 0.97332 |  0:01:15s\n",
      "epoch 24 | loss: 0.10081 | train_accuracy: 0.9815  | valid_accuracy: 0.98214 |  0:01:18s\n",
      "\n",
      "Early stopping occurred at epoch 24 with best_epoch = 14 and best_valid_accuracy = 0.9938\n",
      "TabNet Accuracy: 0.9939088426801093\n",
      "Classification Report:\n",
      "              precision    recall  f1-score   support\n",
      "\n",
      "           0       1.00      1.00      1.00      2659\n",
      "           1       1.00      0.98      0.99      1898\n",
      "           2       0.98      1.00      0.99      2245\n",
      "           3       1.00      1.00      1.00      2720\n",
      "\n",
      "    accuracy                           0.99      9522\n",
      "   macro avg       0.99      0.99      0.99      9522\n",
      "weighted avg       0.99      0.99      0.99      9522\n",
      "\n"
     ]
    }
   ],
   "source": [
    "tabnet_model = TabNetClassifier()\n",
    "# Train TabNet Model after augmentation # New class distribution after augmentation\n",
    "tabnet_model.fit(\n",
    "    X_train.values, y_train.values,\n",
    "    eval_set=[(X_train.values, y_train.values), (X_val.values, y_val.values)],\n",
    "    eval_name=['train', 'valid'],\n",
    "    eval_metric=['accuracy'],\n",
    "    max_epochs=100,\n",
    "    patience=10,\n",
    "    batch_size=1024,\n",
    "    virtual_batch_size=128\n",
    ")\n",
    "\n",
    "y_pred_tabnet = tabnet_model.predict(X_test.values)\n",
    "\n",
    "print(f\"TabNet Accuracy: {accuracy_score(y_test, y_pred_tabnet)}\")\n",
    "print(f\"Classification Report:\\n{classification_report(y_test, y_pred_tabnet)}\")"
   ]
  },
  {
   "cell_type": "code",
   "execution_count": 94,
   "metadata": {
    "colab": {
     "base_uri": "https://localhost:8080/",
     "height": 487
    },
    "id": "DI1lu8CNRCTR",
    "outputId": "95af9d73-479a-4b5c-b00c-f2d158acc0ae"
   },
   "outputs": [
    {
     "data": {
      "image/png": "[encoded data removed]",
      "text/plain": [
       "<Figure size 1000x500 with 1 Axes>"
      ]
     },
     "metadata": {},
     "output_type": "display_data"
    }
   ],
   "source": [
    "history = tabnet_model.history\n",
    "train_accuracy = history['train_accuracy']\n",
    "val_accuracy = history['valid_accuracy']\n",
    "train_loss = history['loss']\n",
    "\n",
    "plt.figure(figsize=(10, 5))\n",
    "plt.plot(train_accuracy, label='Training Accuracy')\n",
    "plt.plot(val_accuracy, label='Validation Accuracy')\n",
    "plt.title('TabNet Model Accuracy')\n",
    "plt.xlabel('Epoch')\n",
    "plt.ylabel('Accuracy')\n",
    "plt.legend()\n",
    "plt.show()"
   ]
  },
  {
   "cell_type": "code",
   "execution_count": 92,
   "metadata": {
    "colab": {
     "base_uri": "https://localhost:8080/"
    },
    "id": "40KN9O35Ckkr",
    "outputId": "fff243d4-299b-46f2-ef9a-c90242f4ecef"
   },
   "outputs": [
    {
     "name": "stdout",
     "output_type": "stream",
     "text": [
      "Model Comparison:\n",
      "                     Accuracy\n",
      "Logistic Regression  0.916080\n",
      "Random Forest        1.000000\n",
      "SVM                  0.997374\n",
      "XGBoost              0.998214\n",
      "TabNet               0.993909\n"
     ]
    }
   ],
   "source": [
    "model_results = {\n",
    "    'Logistic Regression': accuracy_score(y_val, y_pred_log_reg),\n",
    "    'Random Forest': accuracy_score(y_val, y_pred_rf),\n",
    "    'SVM': accuracy_score(y_val, y_pred_svm),\n",
    "    'XGBoost': accuracy_score(y_val, y_pred_xgb),\n",
    "    'TabNet': accuracy_score(y_test, y_pred_tabnet)\n",
    "}\n",
    "\n",
    "results_df = pd.DataFrame.from_dict(model_results, orient='index', columns=['Accuracy'])\n",
    "print(\"Model Comparison:\")\n",
    "print(results_df)"
   ]
  },
  {
   "cell_type": "code",
   "execution_count": null,
   "metadata": {
    "id": "ywK7HS6OntzQ"
   },
   "outputs": [],
   "source": []
  }
 ],
 "metadata": {
  "accelerator": "GPU",
  "colab": {
   "gpuType": "T4",
   "provenance": []
  },
  "kernelspec": {
   "display_name": "Python 3 (ipykernel)",
   "language": "python",
   "name": "python3"
  },
  "language_info": {
   "codemirror_mode": {
    "name": "ipython",
    "version": 3
   },
   "file_extension": ".py",
   "mimetype": "text/x-python",
   "name": "python",
   "nbconvert_exporter": "python",
   "pygments_lexer": "ipython3",
   "version": "3.12.4"
  }
 },
 "nbformat": 4,
 "nbformat_minor": 4
}
