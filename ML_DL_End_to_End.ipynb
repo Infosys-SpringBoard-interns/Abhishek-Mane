{
  "nbformat": 4,
  "nbformat_minor": 0,
  "metadata": {
    "colab": {
      "provenance": [],
      "gpuType": "T4"
    },
    "kernelspec": {
      "name": "python3",
      "display_name": "Python 3"
    },
    "language_info": {
      "name": "python"
    },
    "accelerator": "GPU"
  },
  "cells": [
    {
      "cell_type": "code",
      "execution_count": 23,
      "metadata": {
        "id": "9Oe95wxQrunp"
      },
      "outputs": [],
      "source": [
        "import numpy as np\n",
        "import pandas as pd\n",
        "from sklearn.preprocessing import LabelEncoder, StandardScaler\n",
        "import warnings\n",
        "warnings.filterwarnings('ignore')\n",
        "\n",
        "df = pd.read_csv('obesity_data_with_status_50000.csv')"
      ]
    },
    {
      "cell_type": "code",
      "source": [
        "label_encoder = LabelEncoder()\n",
        "df['Obesity_Status'] = label_encoder.fit_transform(df['Obesity_Status'])\n",
        "df['Blood_Pressure'] = label_encoder.fit_transform(df['Blood_Pressure'])\n",
        "\n",
        "def remove_outliers_zscore(df, column_names, threshold=3):\n",
        "    z_scores = np.abs((df[column_names] - df[column_names].mean()) / df[column_names].std())\n",
        "    filtered_df = df[(z_scores < threshold).all(axis=1)]\n",
        "    return filtered_df\n",
        "\n",
        "continuous_columns = ['Height_cm', 'Weight_kg']\n",
        "df_cleaned = remove_outliers_zscore(df, continuous_columns)"
      ],
      "metadata": {
        "id": "gc0CqPTIsL_Q"
      },
      "execution_count": 22,
      "outputs": []
    },
    {
      "cell_type": "code",
      "source": [
        "scaler = StandardScaler()\n",
        "df_cleaned[['Height_cm', 'Weight_kg']] = scaler.fit_transform(df_cleaned[['Height_cm', 'Weight_kg']])"
      ],
      "metadata": {
        "id": "eQM2csQRsR8s"
      },
      "execution_count": 21,
      "outputs": []
    },
    {
      "cell_type": "code",
      "source": [
        "from sklearn.model_selection import train_test_split\n",
        "\n",
        "# Feature-Target Split\n",
        "X = df_cleaned.drop('Obesity_Status', axis=1)\n",
        "y = df_cleaned['Obesity_Status']\n",
        "\n",
        "# Train-test split\n",
        "X_train, X_test, y_train, y_test = train_test_split(X, y, test_size=0.2, random_state=42)\n"
      ],
      "metadata": {
        "id": "VNZt2a81sUna"
      },
      "execution_count": 11,
      "outputs": []
    },
    {
      "cell_type": "code",
      "source": [
        "X_train.shape, X_test.shape, y_train.shape, y_test.shape"
      ],
      "metadata": {
        "colab": {
          "base_uri": "https://localhost:8080/"
        },
        "id": "DTDm3omGsp49",
        "outputId": "0fa9e8bf-9217-4311-e79a-a6476ad93488"
      },
      "execution_count": 24,
      "outputs": [
        {
          "output_type": "execute_result",
          "data": {
            "text/plain": [
              "((39795, 15), (9949, 15), (39795,), (9949,))"
            ]
          },
          "metadata": {},
          "execution_count": 24
        }
      ]
    },
    {
      "cell_type": "code",
      "source": [
        "from sklearn.linear_model import LogisticRegression\n",
        "from sklearn.ensemble import RandomForestClassifier\n",
        "from sklearn.svm import SVC\n",
        "from xgboost import XGBClassifier\n",
        "from sklearn.metrics import accuracy_score, classification_report\n",
        "\n",
        "\n",
        "log_reg = LogisticRegression()\n",
        "log_reg.fit(X_train, y_train)\n",
        "y_pred_log_reg = log_reg.predict(X_test)\n",
        "print(f\"Logistic Regression Accuracy: {accuracy_score(y_test, y_pred_log_reg)}\")"
      ],
      "metadata": {
        "colab": {
          "base_uri": "https://localhost:8080/"
        },
        "id": "Nor8kG8usvXT",
        "outputId": "4bf68713-f59c-41a8-8927-633e7b4b186a"
      },
      "execution_count": 25,
      "outputs": [
        {
          "output_type": "stream",
          "name": "stdout",
          "text": [
            "Logistic Regression Accuracy: 0.8962709820082421\n"
          ]
        }
      ]
    },
    {
      "cell_type": "code",
      "source": [
        "# Random Forest\n",
        "rf_model = RandomForestClassifier()\n",
        "rf_model.fit(X_train, y_train)\n",
        "y_pred_rf = rf_model.predict(X_test)\n",
        "print(f\"Random Forest Accuracy: {accuracy_score(y_test, y_pred_rf)}\")"
      ],
      "metadata": {
        "colab": {
          "base_uri": "https://localhost:8080/"
        },
        "id": "1Gvrj-wPxQLK",
        "outputId": "6761ad31-498f-4aea-fdac-09010371603c"
      },
      "execution_count": 26,
      "outputs": [
        {
          "output_type": "stream",
          "name": "stdout",
          "text": [
            "Random Forest Accuracy: 1.0\n"
          ]
        }
      ]
    },
    {
      "cell_type": "code",
      "source": [
        "# SVM\n",
        "svm_model = SVC(kernel='linear')\n",
        "svm_model.fit(X_train, y_train)\n",
        "y_pred_svm = svm_model.predict(X_test)\n",
        "print(f\"SVM Accuracy: {accuracy_score(y_test, y_pred_svm)}\")"
      ],
      "metadata": {
        "colab": {
          "base_uri": "https://localhost:8080/"
        },
        "id": "HVL47W85xQNx",
        "outputId": "57b23989-d9b0-4945-d118-b60321313ae5"
      },
      "execution_count": 27,
      "outputs": [
        {
          "output_type": "stream",
          "name": "stdout",
          "text": [
            "SVM Accuracy: 0.9981907729420042\n"
          ]
        }
      ]
    },
    {
      "cell_type": "code",
      "source": [
        "# XGBoost\n",
        "xgb_model = XGBClassifier()\n",
        "xgb_model.fit(X_train, y_train)\n",
        "y_pred_xgb = xgb_model.predict(X_test)\n",
        "print(f\"XGBoost Accuracy: {accuracy_score(y_test, y_pred_xgb)}\")"
      ],
      "metadata": {
        "colab": {
          "base_uri": "https://localhost:8080/"
        },
        "id": "frmZmEIzxQQN",
        "outputId": "27d75317-de81-44e9-b813-fab86a4fc70e"
      },
      "execution_count": 28,
      "outputs": [
        {
          "output_type": "stream",
          "name": "stdout",
          "text": [
            "XGBoost Accuracy: 0.9974871846416725\n"
          ]
        }
      ]
    },
    {
      "cell_type": "code",
      "source": [],
      "metadata": {
        "id": "5V0vM2MsxQS3"
      },
      "execution_count": null,
      "outputs": []
    },
    {
      "cell_type": "code",
      "source": [],
      "metadata": {
        "id": "W5sgI27SxQU8"
      },
      "execution_count": null,
      "outputs": []
    },
    {
      "cell_type": "code",
      "source": [],
      "metadata": {
        "id": "0m2cwjgfxQYb"
      },
      "execution_count": null,
      "outputs": []
    },
    {
      "cell_type": "code",
      "source": [
        "import tensorflow as tf\n",
        "from tensorflow.keras.models import Sequential\n",
        "from tensorflow.keras.layers import Dense, Dropout\n",
        "from tensorflow.keras.callbacks import EarlyStopping, ReduceLROnPlateau\n",
        "\n",
        "def focal_loss(gamma=2., alpha=4.):\n",
        "    def focal_loss_fixed(y_true, y_pred):\n",
        "        epsilon = tf.keras.backend.epsilon()\n",
        "        y_pred = tf.clip_by_value(y_pred, epsilon, 1. - epsilon)\n",
        "        cross_entropy = -y_true * tf.math.log(y_pred)\n",
        "        weight = alpha * tf.math.pow(1 - y_pred, gamma)\n",
        "        loss = weight * cross_entropy\n",
        "        return tf.reduce_mean(loss)\n",
        "    return focal_loss_fixed"
      ],
      "metadata": {
        "id": "jR3kMKBCszgk"
      },
      "execution_count": 30,
      "outputs": []
    },
    {
      "cell_type": "code",
      "source": [
        "model = Sequential()\n",
        "model.add(Dense(128, activation='relu', input_shape=(X_train.shape[1],)))\n",
        "model.add(Dropout(0.5))\n",
        "model.add(Dense(64, activation='relu'))\n",
        "model.add(Dropout(0.5))\n",
        "model.add(Dense(4, activation='softmax'))\n",
        "\n",
        "model.compile(optimizer='adam', loss=focal_loss(gamma=2., alpha=4.), metrics=['accuracy'])\n",
        "\n",
        "# Early Stopping and Learning Rate Reduction\n",
        "early_stopping = EarlyStopping(monitor='val_loss', patience=5, restore_best_weights=True)\n",
        "lr_reduction = ReduceLROnPlateau(monitor='val_loss', factor=0.2, patience=3, min_lr=1e-6)\n",
        "\n",
        "history = model.fit(X_train, tf.keras.utils.to_categorical(y_train, num_classes=4),\n",
        "                    epochs=50, batch_size=32,\n",
        "                    validation_data=(X_test, tf.keras.utils.to_categorical(y_test, num_classes=4)),\n",
        "                    callbacks=[early_stopping, lr_reduction])"
      ],
      "metadata": {
        "colab": {
          "base_uri": "https://localhost:8080/"
        },
        "id": "N6GYFpT-tBbn",
        "outputId": "41981cd0-452c-426f-af76-e91b448f6dab"
      },
      "execution_count": 31,
      "outputs": [
        {
          "output_type": "stream",
          "name": "stdout",
          "text": [
            "Epoch 1/50\n",
            "\u001b[1m1244/1244\u001b[0m \u001b[32m━━━━━━━━━━━━━━━━━━━━\u001b[0m\u001b[37m\u001b[0m \u001b[1m8s\u001b[0m 4ms/step - accuracy: 0.3983 - loss: 1.6946 - val_accuracy: 0.8104 - val_loss: 0.1912 - learning_rate: 0.0010\n",
            "Epoch 2/50\n",
            "\u001b[1m1244/1244\u001b[0m \u001b[32m━━━━━━━━━━━━━━━━━━━━\u001b[0m\u001b[37m\u001b[0m \u001b[1m7s\u001b[0m 3ms/step - accuracy: 0.7331 - loss: 0.2050 - val_accuracy: 0.9009 - val_loss: 0.0818 - learning_rate: 0.0010\n",
            "Epoch 3/50\n",
            "\u001b[1m1244/1244\u001b[0m \u001b[32m━━━━━━━━━━━━━━━━━━━━\u001b[0m\u001b[37m\u001b[0m \u001b[1m7s\u001b[0m 4ms/step - accuracy: 0.8294 - loss: 0.1127 - val_accuracy: 0.9565 - val_loss: 0.0407 - learning_rate: 0.0010\n",
            "Epoch 4/50\n",
            "\u001b[1m1244/1244\u001b[0m \u001b[32m━━━━━━━━━━━━━━━━━━━━\u001b[0m\u001b[37m\u001b[0m \u001b[1m10s\u001b[0m 4ms/step - accuracy: 0.8730 - loss: 0.0845 - val_accuracy: 0.9492 - val_loss: 0.0355 - learning_rate: 0.0010\n",
            "Epoch 5/50\n",
            "\u001b[1m1244/1244\u001b[0m \u001b[32m━━━━━━━━━━━━━━━━━━━━\u001b[0m\u001b[37m\u001b[0m \u001b[1m4s\u001b[0m 3ms/step - accuracy: 0.8937 - loss: 0.0703 - val_accuracy: 0.9605 - val_loss: 0.0288 - learning_rate: 0.0010\n",
            "Epoch 6/50\n",
            "\u001b[1m1244/1244\u001b[0m \u001b[32m━━━━━━━━━━━━━━━━━━━━\u001b[0m\u001b[37m\u001b[0m \u001b[1m5s\u001b[0m 4ms/step - accuracy: 0.9055 - loss: 0.0629 - val_accuracy: 0.9511 - val_loss: 0.0305 - learning_rate: 0.0010\n",
            "Epoch 7/50\n",
            "\u001b[1m1244/1244\u001b[0m \u001b[32m━━━━━━━━━━━━━━━━━━━━\u001b[0m\u001b[37m\u001b[0m \u001b[1m10s\u001b[0m 4ms/step - accuracy: 0.9162 - loss: 0.0559 - val_accuracy: 0.9635 - val_loss: 0.0209 - learning_rate: 0.0010\n",
            "Epoch 8/50\n",
            "\u001b[1m1244/1244\u001b[0m \u001b[32m━━━━━━━━━━━━━━━━━━━━\u001b[0m\u001b[37m\u001b[0m \u001b[1m6s\u001b[0m 5ms/step - accuracy: 0.9220 - loss: 0.0506 - val_accuracy: 0.9662 - val_loss: 0.0222 - learning_rate: 0.0010\n",
            "Epoch 9/50\n",
            "\u001b[1m1244/1244\u001b[0m \u001b[32m━━━━━━━━━━━━━━━━━━━━\u001b[0m\u001b[37m\u001b[0m \u001b[1m4s\u001b[0m 3ms/step - accuracy: 0.9256 - loss: 0.0504 - val_accuracy: 0.9567 - val_loss: 0.0262 - learning_rate: 0.0010\n",
            "Epoch 10/50\n",
            "\u001b[1m1244/1244\u001b[0m \u001b[32m━━━━━━━━━━━━━━━━━━━━\u001b[0m\u001b[37m\u001b[0m \u001b[1m4s\u001b[0m 2ms/step - accuracy: 0.9326 - loss: 0.0460 - val_accuracy: 0.9781 - val_loss: 0.0164 - learning_rate: 0.0010\n",
            "Epoch 11/50\n",
            "\u001b[1m1244/1244\u001b[0m \u001b[32m━━━━━━━━━━━━━━━━━━━━\u001b[0m\u001b[37m\u001b[0m \u001b[1m3s\u001b[0m 3ms/step - accuracy: 0.9355 - loss: 0.0449 - val_accuracy: 0.9538 - val_loss: 0.0237 - learning_rate: 0.0010\n",
            "Epoch 12/50\n",
            "\u001b[1m1244/1244\u001b[0m \u001b[32m━━━━━━━━━━━━━━━━━━━━\u001b[0m\u001b[37m\u001b[0m \u001b[1m3s\u001b[0m 2ms/step - accuracy: 0.9397 - loss: 0.0421 - val_accuracy: 0.9513 - val_loss: 0.0272 - learning_rate: 0.0010\n",
            "Epoch 13/50\n",
            "\u001b[1m1244/1244\u001b[0m \u001b[32m━━━━━━━━━━━━━━━━━━━━\u001b[0m\u001b[37m\u001b[0m \u001b[1m2s\u001b[0m 2ms/step - accuracy: 0.9360 - loss: 0.0421 - val_accuracy: 0.9761 - val_loss: 0.0168 - learning_rate: 0.0010\n",
            "Epoch 14/50\n",
            "\u001b[1m1244/1244\u001b[0m \u001b[32m━━━━━━━━━━━━━━━━━━━━\u001b[0m\u001b[37m\u001b[0m \u001b[1m3s\u001b[0m 2ms/step - accuracy: 0.9568 - loss: 0.0289 - val_accuracy: 0.9695 - val_loss: 0.0160 - learning_rate: 2.0000e-04\n",
            "Epoch 15/50\n",
            "\u001b[1m1244/1244\u001b[0m \u001b[32m━━━━━━━━━━━━━━━━━━━━\u001b[0m\u001b[37m\u001b[0m \u001b[1m3s\u001b[0m 2ms/step - accuracy: 0.9669 - loss: 0.0240 - val_accuracy: 0.9843 - val_loss: 0.0095 - learning_rate: 2.0000e-04\n",
            "Epoch 16/50\n",
            "\u001b[1m1244/1244\u001b[0m \u001b[32m━━━━━━━━━━━━━━━━━━━━\u001b[0m\u001b[37m\u001b[0m \u001b[1m5s\u001b[0m 2ms/step - accuracy: 0.9676 - loss: 0.0231 - val_accuracy: 0.9801 - val_loss: 0.0109 - learning_rate: 2.0000e-04\n",
            "Epoch 17/50\n",
            "\u001b[1m1244/1244\u001b[0m \u001b[32m━━━━━━━━━━━━━━━━━━━━\u001b[0m\u001b[37m\u001b[0m \u001b[1m3s\u001b[0m 2ms/step - accuracy: 0.9719 - loss: 0.0203 - val_accuracy: 0.9864 - val_loss: 0.0084 - learning_rate: 2.0000e-04\n",
            "Epoch 18/50\n",
            "\u001b[1m1244/1244\u001b[0m \u001b[32m━━━━━━━━━━━━━━━━━━━━\u001b[0m\u001b[37m\u001b[0m \u001b[1m6s\u001b[0m 3ms/step - accuracy: 0.9695 - loss: 0.0205 - val_accuracy: 0.9896 - val_loss: 0.0083 - learning_rate: 2.0000e-04\n",
            "Epoch 19/50\n",
            "\u001b[1m1244/1244\u001b[0m \u001b[32m━━━━━━━━━━━━━━━━━━━━\u001b[0m\u001b[37m\u001b[0m \u001b[1m3s\u001b[0m 2ms/step - accuracy: 0.9733 - loss: 0.0191 - val_accuracy: 0.9791 - val_loss: 0.0115 - learning_rate: 2.0000e-04\n",
            "Epoch 20/50\n",
            "\u001b[1m1244/1244\u001b[0m \u001b[32m━━━━━━━━━━━━━━━━━━━━\u001b[0m\u001b[37m\u001b[0m \u001b[1m3s\u001b[0m 2ms/step - accuracy: 0.9718 - loss: 0.0209 - val_accuracy: 0.9829 - val_loss: 0.0092 - learning_rate: 2.0000e-04\n",
            "Epoch 21/50\n",
            "\u001b[1m1244/1244\u001b[0m \u001b[32m━━━━━━━━━━━━━━━━━━━━\u001b[0m\u001b[37m\u001b[0m \u001b[1m2s\u001b[0m 2ms/step - accuracy: 0.9727 - loss: 0.0196 - val_accuracy: 0.9840 - val_loss: 0.0091 - learning_rate: 2.0000e-04\n",
            "Epoch 22/50\n",
            "\u001b[1m1244/1244\u001b[0m \u001b[32m━━━━━━━━━━━━━━━━━━━━\u001b[0m\u001b[37m\u001b[0m \u001b[1m3s\u001b[0m 2ms/step - accuracy: 0.9773 - loss: 0.0165 - val_accuracy: 0.9895 - val_loss: 0.0069 - learning_rate: 4.0000e-05\n",
            "Epoch 23/50\n",
            "\u001b[1m1244/1244\u001b[0m \u001b[32m━━━━━━━━━━━━━━━━━━━━\u001b[0m\u001b[37m\u001b[0m \u001b[1m5s\u001b[0m 2ms/step - accuracy: 0.9782 - loss: 0.0162 - val_accuracy: 0.9912 - val_loss: 0.0064 - learning_rate: 4.0000e-05\n",
            "Epoch 24/50\n",
            "\u001b[1m1244/1244\u001b[0m \u001b[32m━━━━━━━━━━━━━━━━━━━━\u001b[0m\u001b[37m\u001b[0m \u001b[1m3s\u001b[0m 2ms/step - accuracy: 0.9794 - loss: 0.0156 - val_accuracy: 0.9879 - val_loss: 0.0071 - learning_rate: 4.0000e-05\n",
            "Epoch 25/50\n",
            "\u001b[1m1244/1244\u001b[0m \u001b[32m━━━━━━━━━━━━━━━━━━━━\u001b[0m\u001b[37m\u001b[0m \u001b[1m3s\u001b[0m 2ms/step - accuracy: 0.9805 - loss: 0.0151 - val_accuracy: 0.9922 - val_loss: 0.0060 - learning_rate: 4.0000e-05\n",
            "Epoch 26/50\n",
            "\u001b[1m1244/1244\u001b[0m \u001b[32m━━━━━━━━━━━━━━━━━━━━\u001b[0m\u001b[37m\u001b[0m \u001b[1m6s\u001b[0m 2ms/step - accuracy: 0.9809 - loss: 0.0143 - val_accuracy: 0.9870 - val_loss: 0.0074 - learning_rate: 4.0000e-05\n",
            "Epoch 27/50\n",
            "\u001b[1m1244/1244\u001b[0m \u001b[32m━━━━━━━━━━━━━━━━━━━━\u001b[0m\u001b[37m\u001b[0m \u001b[1m4s\u001b[0m 2ms/step - accuracy: 0.9803 - loss: 0.0150 - val_accuracy: 0.9919 - val_loss: 0.0059 - learning_rate: 4.0000e-05\n",
            "Epoch 28/50\n",
            "\u001b[1m1244/1244\u001b[0m \u001b[32m━━━━━━━━━━━━━━━━━━━━\u001b[0m\u001b[37m\u001b[0m \u001b[1m3s\u001b[0m 2ms/step - accuracy: 0.9814 - loss: 0.0144 - val_accuracy: 0.9894 - val_loss: 0.0063 - learning_rate: 4.0000e-05\n",
            "Epoch 29/50\n",
            "\u001b[1m1244/1244\u001b[0m \u001b[32m━━━━━━━━━━━━━━━━━━━━\u001b[0m\u001b[37m\u001b[0m \u001b[1m3s\u001b[0m 2ms/step - accuracy: 0.9801 - loss: 0.0147 - val_accuracy: 0.9921 - val_loss: 0.0060 - learning_rate: 4.0000e-05\n",
            "Epoch 30/50\n",
            "\u001b[1m1244/1244\u001b[0m \u001b[32m━━━━━━━━━━━━━━━━━━━━\u001b[0m\u001b[37m\u001b[0m \u001b[1m4s\u001b[0m 2ms/step - accuracy: 0.9804 - loss: 0.0149 - val_accuracy: 0.9897 - val_loss: 0.0063 - learning_rate: 4.0000e-05\n",
            "Epoch 31/50\n",
            "\u001b[1m1244/1244\u001b[0m \u001b[32m━━━━━━━━━━━━━━━━━━━━\u001b[0m\u001b[37m\u001b[0m \u001b[1m3s\u001b[0m 2ms/step - accuracy: 0.9832 - loss: 0.0130 - val_accuracy: 0.9896 - val_loss: 0.0063 - learning_rate: 8.0000e-06\n",
            "Epoch 32/50\n",
            "\u001b[1m1244/1244\u001b[0m \u001b[32m━━━━━━━━━━━━━━━━━━━━\u001b[0m\u001b[37m\u001b[0m \u001b[1m3s\u001b[0m 2ms/step - accuracy: 0.9810 - loss: 0.0148 - val_accuracy: 0.9913 - val_loss: 0.0057 - learning_rate: 8.0000e-06\n",
            "Epoch 33/50\n",
            "\u001b[1m1244/1244\u001b[0m \u001b[32m━━━━━━━━━━━━━━━━━━━━\u001b[0m\u001b[37m\u001b[0m \u001b[1m5s\u001b[0m 2ms/step - accuracy: 0.9808 - loss: 0.0147 - val_accuracy: 0.9925 - val_loss: 0.0056 - learning_rate: 8.0000e-06\n",
            "Epoch 34/50\n",
            "\u001b[1m1244/1244\u001b[0m \u001b[32m━━━━━━━━━━━━━━━━━━━━\u001b[0m\u001b[37m\u001b[0m \u001b[1m3s\u001b[0m 2ms/step - accuracy: 0.9808 - loss: 0.0145 - val_accuracy: 0.9904 - val_loss: 0.0059 - learning_rate: 8.0000e-06\n",
            "Epoch 35/50\n",
            "\u001b[1m1244/1244\u001b[0m \u001b[32m━━━━━━━━━━━━━━━━━━━━\u001b[0m\u001b[37m\u001b[0m \u001b[1m3s\u001b[0m 2ms/step - accuracy: 0.9797 - loss: 0.0152 - val_accuracy: 0.9915 - val_loss: 0.0057 - learning_rate: 8.0000e-06\n",
            "Epoch 36/50\n",
            "\u001b[1m1244/1244\u001b[0m \u001b[32m━━━━━━━━━━━━━━━━━━━━\u001b[0m\u001b[37m\u001b[0m \u001b[1m5s\u001b[0m 2ms/step - accuracy: 0.9821 - loss: 0.0138 - val_accuracy: 0.9911 - val_loss: 0.0057 - learning_rate: 1.6000e-06\n",
            "Epoch 37/50\n",
            "\u001b[1m1244/1244\u001b[0m \u001b[32m━━━━━━━━━━━━━━━━━━━━\u001b[0m\u001b[37m\u001b[0m \u001b[1m5s\u001b[0m 2ms/step - accuracy: 0.9809 - loss: 0.0139 - val_accuracy: 0.9913 - val_loss: 0.0057 - learning_rate: 1.6000e-06\n",
            "Epoch 38/50\n",
            "\u001b[1m1244/1244\u001b[0m \u001b[32m━━━━━━━━━━━━━━━━━━━━\u001b[0m\u001b[37m\u001b[0m \u001b[1m2s\u001b[0m 2ms/step - accuracy: 0.9835 - loss: 0.0131 - val_accuracy: 0.9913 - val_loss: 0.0057 - learning_rate: 1.6000e-06\n"
          ]
        }
      ]
    },
    {
      "cell_type": "code",
      "source": [
        "model.summary()"
      ],
      "metadata": {
        "colab": {
          "base_uri": "https://localhost:8080/",
          "height": 305
        },
        "id": "AhlqvDZVtDv3",
        "outputId": "d006d380-0bba-48d8-be06-3991f76793f6"
      },
      "execution_count": 16,
      "outputs": [
        {
          "output_type": "display_data",
          "data": {
            "text/plain": [
              "\u001b[1mModel: \"sequential\"\u001b[0m\n"
            ],
            "text/html": [
              "<pre style=\"white-space:pre;overflow-x:auto;line-height:normal;font-family:Menlo,'DejaVu Sans Mono',consolas,'Courier New',monospace\"><span style=\"font-weight: bold\">Model: \"sequential\"</span>\n",
              "</pre>\n"
            ]
          },
          "metadata": {}
        },
        {
          "output_type": "display_data",
          "data": {
            "text/plain": [
              "┏━━━━━━━━━━━━━━━━━━━━━━━━━━━━━━━━━━━━━━┳━━━━━━━━━━━━━━━━━━━━━━━━━━━━━┳━━━━━━━━━━━━━━━━━┓\n",
              "┃\u001b[1m \u001b[0m\u001b[1mLayer (type)                        \u001b[0m\u001b[1m \u001b[0m┃\u001b[1m \u001b[0m\u001b[1mOutput Shape               \u001b[0m\u001b[1m \u001b[0m┃\u001b[1m \u001b[0m\u001b[1m        Param #\u001b[0m\u001b[1m \u001b[0m┃\n",
              "┡━━━━━━━━━━━━━━━━━━━━━━━━━━━━━━━━━━━━━━╇━━━━━━━━━━━━━━━━━━━━━━━━━━━━━╇━━━━━━━━━━━━━━━━━┩\n",
              "│ dense (\u001b[38;5;33mDense\u001b[0m)                        │ (\u001b[38;5;45mNone\u001b[0m, \u001b[38;5;34m128\u001b[0m)                 │           \u001b[38;5;34m2,048\u001b[0m │\n",
              "├──────────────────────────────────────┼─────────────────────────────┼─────────────────┤\n",
              "│ dropout (\u001b[38;5;33mDropout\u001b[0m)                    │ (\u001b[38;5;45mNone\u001b[0m, \u001b[38;5;34m128\u001b[0m)                 │               \u001b[38;5;34m0\u001b[0m │\n",
              "├──────────────────────────────────────┼─────────────────────────────┼─────────────────┤\n",
              "│ dense_1 (\u001b[38;5;33mDense\u001b[0m)                      │ (\u001b[38;5;45mNone\u001b[0m, \u001b[38;5;34m64\u001b[0m)                  │           \u001b[38;5;34m8,256\u001b[0m │\n",
              "├──────────────────────────────────────┼─────────────────────────────┼─────────────────┤\n",
              "│ dropout_1 (\u001b[38;5;33mDropout\u001b[0m)                  │ (\u001b[38;5;45mNone\u001b[0m, \u001b[38;5;34m64\u001b[0m)                  │               \u001b[38;5;34m0\u001b[0m │\n",
              "├──────────────────────────────────────┼─────────────────────────────┼─────────────────┤\n",
              "│ dense_2 (\u001b[38;5;33mDense\u001b[0m)                      │ (\u001b[38;5;45mNone\u001b[0m, \u001b[38;5;34m4\u001b[0m)                   │             \u001b[38;5;34m260\u001b[0m │\n",
              "└──────────────────────────────────────┴─────────────────────────────┴─────────────────┘\n"
            ],
            "text/html": [
              "<pre style=\"white-space:pre;overflow-x:auto;line-height:normal;font-family:Menlo,'DejaVu Sans Mono',consolas,'Courier New',monospace\">┏━━━━━━━━━━━━━━━━━━━━━━━━━━━━━━━━━━━━━━┳━━━━━━━━━━━━━━━━━━━━━━━━━━━━━┳━━━━━━━━━━━━━━━━━┓\n",
              "┃<span style=\"font-weight: bold\"> Layer (type)                         </span>┃<span style=\"font-weight: bold\"> Output Shape                </span>┃<span style=\"font-weight: bold\">         Param # </span>┃\n",
              "┡━━━━━━━━━━━━━━━━━━━━━━━━━━━━━━━━━━━━━━╇━━━━━━━━━━━━━━━━━━━━━━━━━━━━━╇━━━━━━━━━━━━━━━━━┩\n",
              "│ dense (<span style=\"color: #0087ff; text-decoration-color: #0087ff\">Dense</span>)                        │ (<span style=\"color: #00d7ff; text-decoration-color: #00d7ff\">None</span>, <span style=\"color: #00af00; text-decoration-color: #00af00\">128</span>)                 │           <span style=\"color: #00af00; text-decoration-color: #00af00\">2,048</span> │\n",
              "├──────────────────────────────────────┼─────────────────────────────┼─────────────────┤\n",
              "│ dropout (<span style=\"color: #0087ff; text-decoration-color: #0087ff\">Dropout</span>)                    │ (<span style=\"color: #00d7ff; text-decoration-color: #00d7ff\">None</span>, <span style=\"color: #00af00; text-decoration-color: #00af00\">128</span>)                 │               <span style=\"color: #00af00; text-decoration-color: #00af00\">0</span> │\n",
              "├──────────────────────────────────────┼─────────────────────────────┼─────────────────┤\n",
              "│ dense_1 (<span style=\"color: #0087ff; text-decoration-color: #0087ff\">Dense</span>)                      │ (<span style=\"color: #00d7ff; text-decoration-color: #00d7ff\">None</span>, <span style=\"color: #00af00; text-decoration-color: #00af00\">64</span>)                  │           <span style=\"color: #00af00; text-decoration-color: #00af00\">8,256</span> │\n",
              "├──────────────────────────────────────┼─────────────────────────────┼─────────────────┤\n",
              "│ dropout_1 (<span style=\"color: #0087ff; text-decoration-color: #0087ff\">Dropout</span>)                  │ (<span style=\"color: #00d7ff; text-decoration-color: #00d7ff\">None</span>, <span style=\"color: #00af00; text-decoration-color: #00af00\">64</span>)                  │               <span style=\"color: #00af00; text-decoration-color: #00af00\">0</span> │\n",
              "├──────────────────────────────────────┼─────────────────────────────┼─────────────────┤\n",
              "│ dense_2 (<span style=\"color: #0087ff; text-decoration-color: #0087ff\">Dense</span>)                      │ (<span style=\"color: #00d7ff; text-decoration-color: #00d7ff\">None</span>, <span style=\"color: #00af00; text-decoration-color: #00af00\">4</span>)                   │             <span style=\"color: #00af00; text-decoration-color: #00af00\">260</span> │\n",
              "└──────────────────────────────────────┴─────────────────────────────┴─────────────────┘\n",
              "</pre>\n"
            ]
          },
          "metadata": {}
        },
        {
          "output_type": "display_data",
          "data": {
            "text/plain": [
              "\u001b[1m Total params: \u001b[0m\u001b[38;5;34m31,694\u001b[0m (123.81 KB)\n"
            ],
            "text/html": [
              "<pre style=\"white-space:pre;overflow-x:auto;line-height:normal;font-family:Menlo,'DejaVu Sans Mono',consolas,'Courier New',monospace\"><span style=\"font-weight: bold\"> Total params: </span><span style=\"color: #00af00; text-decoration-color: #00af00\">31,694</span> (123.81 KB)\n",
              "</pre>\n"
            ]
          },
          "metadata": {}
        },
        {
          "output_type": "display_data",
          "data": {
            "text/plain": [
              "\u001b[1m Trainable params: \u001b[0m\u001b[38;5;34m10,564\u001b[0m (41.27 KB)\n"
            ],
            "text/html": [
              "<pre style=\"white-space:pre;overflow-x:auto;line-height:normal;font-family:Menlo,'DejaVu Sans Mono',consolas,'Courier New',monospace\"><span style=\"font-weight: bold\"> Trainable params: </span><span style=\"color: #00af00; text-decoration-color: #00af00\">10,564</span> (41.27 KB)\n",
              "</pre>\n"
            ]
          },
          "metadata": {}
        },
        {
          "output_type": "display_data",
          "data": {
            "text/plain": [
              "\u001b[1m Non-trainable params: \u001b[0m\u001b[38;5;34m0\u001b[0m (0.00 B)\n"
            ],
            "text/html": [
              "<pre style=\"white-space:pre;overflow-x:auto;line-height:normal;font-family:Menlo,'DejaVu Sans Mono',consolas,'Courier New',monospace\"><span style=\"font-weight: bold\"> Non-trainable params: </span><span style=\"color: #00af00; text-decoration-color: #00af00\">0</span> (0.00 B)\n",
              "</pre>\n"
            ]
          },
          "metadata": {}
        },
        {
          "output_type": "display_data",
          "data": {
            "text/plain": [
              "\u001b[1m Optimizer params: \u001b[0m\u001b[38;5;34m21,130\u001b[0m (82.54 KB)\n"
            ],
            "text/html": [
              "<pre style=\"white-space:pre;overflow-x:auto;line-height:normal;font-family:Menlo,'DejaVu Sans Mono',consolas,'Courier New',monospace\"><span style=\"font-weight: bold\"> Optimizer params: </span><span style=\"color: #00af00; text-decoration-color: #00af00\">21,130</span> (82.54 KB)\n",
              "</pre>\n"
            ]
          },
          "metadata": {}
        }
      ]
    },
    {
      "cell_type": "code",
      "source": [
        "!pip install pytorch-tabnet"
      ],
      "metadata": {
        "colab": {
          "base_uri": "https://localhost:8080/"
        },
        "id": "zTGaqw6UthOn",
        "outputId": "c760da43-f15d-4c05-96f8-7d060f31d3c9"
      },
      "execution_count": 17,
      "outputs": [
        {
          "output_type": "stream",
          "name": "stdout",
          "text": [
            "Collecting pytorch-tabnet\n",
            "  Downloading pytorch_tabnet-4.1.0-py3-none-any.whl.metadata (15 kB)\n",
            "Requirement already satisfied: numpy>=1.17 in /usr/local/lib/python3.10/dist-packages (from pytorch-tabnet) (1.26.4)\n",
            "Requirement already satisfied: scikit_learn>0.21 in /usr/local/lib/python3.10/dist-packages (from pytorch-tabnet) (1.5.2)\n",
            "Requirement already satisfied: scipy>1.4 in /usr/local/lib/python3.10/dist-packages (from pytorch-tabnet) (1.13.1)\n",
            "Requirement already satisfied: torch>=1.3 in /usr/local/lib/python3.10/dist-packages (from pytorch-tabnet) (2.4.1+cu121)\n",
            "Requirement already satisfied: tqdm>=4.36 in /usr/local/lib/python3.10/dist-packages (from pytorch-tabnet) (4.66.5)\n",
            "Requirement already satisfied: joblib>=1.2.0 in /usr/local/lib/python3.10/dist-packages (from scikit_learn>0.21->pytorch-tabnet) (1.4.2)\n",
            "Requirement already satisfied: threadpoolctl>=3.1.0 in /usr/local/lib/python3.10/dist-packages (from scikit_learn>0.21->pytorch-tabnet) (3.5.0)\n",
            "Requirement already satisfied: filelock in /usr/local/lib/python3.10/dist-packages (from torch>=1.3->pytorch-tabnet) (3.16.1)\n",
            "Requirement already satisfied: typing-extensions>=4.8.0 in /usr/local/lib/python3.10/dist-packages (from torch>=1.3->pytorch-tabnet) (4.12.2)\n",
            "Requirement already satisfied: sympy in /usr/local/lib/python3.10/dist-packages (from torch>=1.3->pytorch-tabnet) (1.13.3)\n",
            "Requirement already satisfied: networkx in /usr/local/lib/python3.10/dist-packages (from torch>=1.3->pytorch-tabnet) (3.4.1)\n",
            "Requirement already satisfied: jinja2 in /usr/local/lib/python3.10/dist-packages (from torch>=1.3->pytorch-tabnet) (3.1.4)\n",
            "Requirement already satisfied: fsspec in /usr/local/lib/python3.10/dist-packages (from torch>=1.3->pytorch-tabnet) (2024.6.1)\n",
            "Requirement already satisfied: MarkupSafe>=2.0 in /usr/local/lib/python3.10/dist-packages (from jinja2->torch>=1.3->pytorch-tabnet) (3.0.2)\n",
            "Requirement already satisfied: mpmath<1.4,>=1.1.0 in /usr/local/lib/python3.10/dist-packages (from sympy->torch>=1.3->pytorch-tabnet) (1.3.0)\n",
            "Downloading pytorch_tabnet-4.1.0-py3-none-any.whl (44 kB)\n",
            "\u001b[2K   \u001b[90m━━━━━━━━━━━━━━━━━━━━━━━━━━━━━━━━━━━━━━━━\u001b[0m \u001b[32m44.5/44.5 kB\u001b[0m \u001b[31m3.0 MB/s\u001b[0m eta \u001b[36m0:00:00\u001b[0m\n",
            "\u001b[?25hInstalling collected packages: pytorch-tabnet\n",
            "Successfully installed pytorch-tabnet-4.1.0\n"
          ]
        }
      ]
    },
    {
      "cell_type": "code",
      "source": [
        "from pytorch_tabnet.tab_model import TabNetClassifier\n",
        "from sklearn.metrics import accuracy_score\n",
        "\n",
        "tabnet_model = TabNetClassifier()\n",
        "\n",
        "tabnet_model.fit(X_train.values, y_train.values,\n",
        "                 max_epochs=100,\n",
        "                 patience=10,\n",
        "                 batch_size=1024,\n",
        "                 virtual_batch_size=128,\n",
        "                 num_workers=0,\n",
        "                 drop_last=False)\n",
        "\n",
        "y_pred_tabnet = tabnet_model.predict(X_test.values)\n",
        "\n",
        "print(f\"TabNet Accuracy: {accuracy_score(y_test, y_pred_tabnet)}\")"
      ],
      "metadata": {
        "colab": {
          "base_uri": "https://localhost:8080/"
        },
        "id": "Lk9Ps9umtzcA",
        "outputId": "d61a26b6-352e-45b5-9b8e-30b7e9e6a01b"
      },
      "execution_count": 32,
      "outputs": [
        {
          "output_type": "stream",
          "name": "stdout",
          "text": [
            "epoch 0  | loss: 0.9369  |  0:00:01s\n",
            "epoch 1  | loss: 0.23586 |  0:00:03s\n",
            "epoch 2  | loss: 0.16815 |  0:00:05s\n",
            "epoch 3  | loss: 0.18545 |  0:00:07s\n",
            "epoch 4  | loss: 0.14111 |  0:00:08s\n",
            "epoch 5  | loss: 0.13546 |  0:00:10s\n",
            "epoch 6  | loss: 0.13685 |  0:00:11s\n",
            "epoch 7  | loss: 0.13193 |  0:00:13s\n",
            "epoch 8  | loss: 0.1192  |  0:00:14s\n",
            "epoch 9  | loss: 0.12176 |  0:00:17s\n",
            "epoch 10 | loss: 0.13287 |  0:00:18s\n",
            "epoch 11 | loss: 0.11713 |  0:00:20s\n",
            "epoch 12 | loss: 0.10921 |  0:00:21s\n",
            "epoch 13 | loss: 0.12401 |  0:00:23s\n",
            "epoch 14 | loss: 0.11624 |  0:00:24s\n",
            "epoch 15 | loss: 0.12079 |  0:00:26s\n",
            "epoch 16 | loss: 0.13533 |  0:00:28s\n",
            "epoch 17 | loss: 0.10477 |  0:00:30s\n",
            "epoch 18 | loss: 0.11522 |  0:00:32s\n",
            "epoch 19 | loss: 0.09552 |  0:00:33s\n",
            "epoch 20 | loss: 0.09913 |  0:00:35s\n",
            "epoch 21 | loss: 0.10336 |  0:00:36s\n",
            "epoch 22 | loss: 0.11379 |  0:00:38s\n",
            "epoch 23 | loss: 0.09909 |  0:00:40s\n",
            "epoch 24 | loss: 0.10058 |  0:00:42s\n",
            "epoch 25 | loss: 0.09714 |  0:00:43s\n",
            "epoch 26 | loss: 0.09299 |  0:00:45s\n",
            "epoch 27 | loss: 0.10505 |  0:00:46s\n",
            "epoch 28 | loss: 0.09299 |  0:00:48s\n",
            "epoch 29 | loss: 0.11192 |  0:00:50s\n",
            "epoch 30 | loss: 0.09598 |  0:00:51s\n",
            "epoch 31 | loss: 0.09826 |  0:00:53s\n",
            "epoch 32 | loss: 0.09761 |  0:00:55s\n",
            "epoch 33 | loss: 0.09005 |  0:00:57s\n",
            "epoch 34 | loss: 0.09942 |  0:00:59s\n",
            "epoch 35 | loss: 0.09742 |  0:01:00s\n",
            "epoch 36 | loss: 0.09304 |  0:01:02s\n",
            "epoch 37 | loss: 0.08784 |  0:01:03s\n",
            "epoch 38 | loss: 0.07775 |  0:01:05s\n",
            "epoch 39 | loss: 0.08529 |  0:01:07s\n",
            "epoch 40 | loss: 0.08593 |  0:01:09s\n",
            "epoch 41 | loss: 0.08791 |  0:01:10s\n",
            "epoch 42 | loss: 0.10317 |  0:01:12s\n",
            "epoch 43 | loss: 0.10208 |  0:01:13s\n",
            "epoch 44 | loss: 0.09302 |  0:01:15s\n",
            "epoch 45 | loss: 0.10235 |  0:01:16s\n",
            "epoch 46 | loss: 0.09037 |  0:01:18s\n",
            "epoch 47 | loss: 0.0783  |  0:01:20s\n",
            "epoch 48 | loss: 0.0782  |  0:01:22s\n",
            "epoch 49 | loss: 0.08777 |  0:01:23s\n",
            "epoch 50 | loss: 0.08496 |  0:01:25s\n",
            "epoch 51 | loss: 0.08441 |  0:01:27s\n",
            "epoch 52 | loss: 0.08898 |  0:01:29s\n",
            "epoch 53 | loss: 0.0921  |  0:01:34s\n",
            "epoch 54 | loss: 0.09617 |  0:01:36s\n",
            "epoch 55 | loss: 0.08454 |  0:01:37s\n",
            "epoch 56 | loss: 0.09094 |  0:01:39s\n",
            "epoch 57 | loss: 0.09326 |  0:01:40s\n",
            "epoch 58 | loss: 0.08755 |  0:01:42s\n",
            "epoch 59 | loss: 0.09674 |  0:01:44s\n",
            "epoch 60 | loss: 0.07816 |  0:01:46s\n",
            "epoch 61 | loss: 0.09346 |  0:01:48s\n",
            "epoch 62 | loss: 0.09461 |  0:01:49s\n",
            "epoch 63 | loss: 0.08482 |  0:01:51s\n",
            "epoch 64 | loss: 0.07221 |  0:01:52s\n",
            "epoch 65 | loss: 0.07525 |  0:01:54s\n",
            "epoch 66 | loss: 0.09303 |  0:01:56s\n",
            "epoch 67 | loss: 0.08312 |  0:01:58s\n",
            "epoch 68 | loss: 0.10308 |  0:02:00s\n",
            "epoch 69 | loss: 0.08878 |  0:02:01s\n",
            "epoch 70 | loss: 0.08083 |  0:02:03s\n",
            "epoch 71 | loss: 0.07057 |  0:02:04s\n",
            "epoch 72 | loss: 0.08772 |  0:02:06s\n",
            "epoch 73 | loss: 0.07642 |  0:02:07s\n",
            "epoch 74 | loss: 0.07086 |  0:02:09s\n",
            "epoch 75 | loss: 0.09421 |  0:02:11s\n",
            "epoch 76 | loss: 0.08538 |  0:02:13s\n",
            "epoch 77 | loss: 0.08145 |  0:02:14s\n",
            "epoch 78 | loss: 0.07379 |  0:02:16s\n",
            "epoch 79 | loss: 0.0852  |  0:02:18s\n",
            "epoch 80 | loss: 0.08559 |  0:02:19s\n",
            "epoch 81 | loss: 0.07331 |  0:02:21s\n",
            "epoch 82 | loss: 0.06961 |  0:02:22s\n",
            "epoch 83 | loss: 0.07726 |  0:02:25s\n",
            "epoch 84 | loss: 0.06704 |  0:02:26s\n",
            "epoch 85 | loss: 0.07545 |  0:02:28s\n",
            "epoch 86 | loss: 0.07354 |  0:02:29s\n",
            "epoch 87 | loss: 0.09334 |  0:02:31s\n",
            "epoch 88 | loss: 0.10153 |  0:02:32s\n",
            "epoch 89 | loss: 0.07961 |  0:02:34s\n",
            "epoch 90 | loss: 0.07196 |  0:02:36s\n",
            "epoch 91 | loss: 0.11073 |  0:02:38s\n",
            "epoch 92 | loss: 0.08156 |  0:02:39s\n",
            "epoch 93 | loss: 0.08121 |  0:02:41s\n",
            "epoch 94 | loss: 0.08571 |  0:02:42s\n",
            "epoch 95 | loss: 0.08363 |  0:02:44s\n",
            "epoch 96 | loss: 0.07198 |  0:02:45s\n",
            "epoch 97 | loss: 0.08784 |  0:02:47s\n",
            "epoch 98 | loss: 0.0808  |  0:02:49s\n",
            "epoch 99 | loss: 0.07522 |  0:02:51s\n",
            "TabNet Accuracy: 0.9937682179113478\n"
          ]
        }
      ]
    },
    {
      "cell_type": "code",
      "source": [
        "import matplotlib.pyplot as plt\n",
        "import pandas as pd\n",
        "\n",
        "model_results = {\n",
        "    'Logistic Regression': accuracy_score(y_test, y_pred_log_reg),\n",
        "    'Random Forest': accuracy_score(y_test, y_pred_rf),\n",
        "    'SVM': accuracy_score(y_test, y_pred_svm),\n",
        "    'XGBoost': accuracy_score(y_test, y_pred_xgb),\n",
        "    'Deep Learning Model': accuracy_score(y_test, np.argmax(model.predict(X_test), axis=1)),\n",
        "    'TabNet': accuracy_score(y_test, y_pred_tabnet)\n",
        "}\n",
        "\n",
        "results_df = pd.DataFrame.from_dict(model_results, orient='index', columns=['Accuracy'])\n",
        "print(\"Model Comparison:\")\n",
        "print(results_df)\n",
        "\n",
        "plt.figure(figsize=(12, 4))\n",
        "plt.subplot(1, 2, 1)\n",
        "plt.plot(history.history['accuracy'])\n",
        "plt.plot(history.history['val_accuracy'])\n",
        "plt.title('Model Accuracy')\n",
        "plt.xlabel('Epoch')\n",
        "plt.ylabel('Accuracy')\n",
        "plt.legend(['Train', 'Validation'], loc='upper left')\n",
        "\n",
        "# Plot loss over epochs\n",
        "plt.subplot(1, 2, 2)\n",
        "plt.plot(history.history['loss'])\n",
        "plt.plot(history.history['val_loss'])\n",
        "plt.title('Model Loss')\n",
        "plt.xlabel('Epoch')\n",
        "plt.ylabel('Loss')\n",
        "plt.legend(['Train', 'Validation'], loc='upper left')\n",
        "plt.tight_layout()\n",
        "plt.show()"
      ],
      "metadata": {
        "colab": {
          "base_uri": "https://localhost:8080/",
          "height": 563
        },
        "id": "S_Hzb6xvt3UC",
        "outputId": "107e8eb4-a82d-4c8b-88c4-2ac5715a2e27"
      },
      "execution_count": 33,
      "outputs": [
        {
          "output_type": "stream",
          "name": "stdout",
          "text": [
            "\u001b[1m311/311\u001b[0m \u001b[32m━━━━━━━━━━━━━━━━━━━━\u001b[0m\u001b[37m\u001b[0m \u001b[1m2s\u001b[0m 4ms/step\n",
            "Model Comparison:\n",
            "                     Accuracy\n",
            "Logistic Regression  0.896271\n",
            "Random Forest        1.000000\n",
            "SVM                  0.998191\n",
            "XGBoost              0.997487\n",
            "Deep Learning Model  0.992462\n",
            "TabNet               0.993768\n"
          ]
        },
        {
          "output_type": "display_data",
          "data": {
            "text/plain": [
              "<Figure size 1200x400 with 2 Axes>"
            ],
            "image/png": "[encoded data removed]"
          },
          "metadata": {}
        }
      ]
    },
    {
      "cell_type": "code",
      "source": [],
      "metadata": {
        "id": "tO0wvJRLupkh"
      },
      "execution_count": null,
      "outputs": []
    }
  ]
}